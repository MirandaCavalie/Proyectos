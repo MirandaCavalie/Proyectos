{
 "cells": [
  {
   "cell_type": "code",
   "execution_count": 5,
   "id": "dd7cc606",
   "metadata": {},
   "outputs": [],
   "source": [
    "import pandas as pd\n"
   ]
  },
  {
   "cell_type": "code",
   "execution_count": 6,
   "id": "8516a409",
   "metadata": {},
   "outputs": [],
   "source": [
    "df=pd.read_parquet('BP_Templates_bigquery_ready.parquet')"
   ]
  },
  {
   "cell_type": "code",
   "execution_count": 7,
   "id": "73627a73",
   "metadata": {},
   "outputs": [
    {
     "data": {
      "text/plain": [
       "doc_name\n",
       "UNGENERALIZABLE                              176136\n",
       "rpa signed                                    46770\n",
       "bitacora availability ecu                     25123\n",
       "tarjeta registro firma                        23898\n",
       "prc comprobante control                       17566\n",
       "                                              ...  \n",
       "grupo daule                                       1\n",
       "cierre ciclo duras pascuales                      1\n",
       "cierre ciclo candelarias                          1\n",
       "registro nueva directiva asoramrec signed         1\n",
       "cuestionario southecuameridian bpgye              1\n",
       "Name: count, Length: 425544, dtype: int64"
      ]
     },
     "execution_count": 7,
     "metadata": {},
     "output_type": "execute_result"
    }
   ],
   "source": [
    "df.doc_name.value_counts()"
   ]
  },
  {
   "cell_type": "code",
   "execution_count": 9,
   "id": "3e8685f1",
   "metadata": {},
   "outputs": [],
   "source": [
    "df = df[df['doc_name'] != 'UNGENERALIZABLE']\n"
   ]
  },
  {
   "cell_type": "code",
   "execution_count": 11,
   "id": "81034226",
   "metadata": {},
   "outputs": [],
   "source": [
    "df.to_parquet('bp_templates_bq.parquet')"
   ]
  },
  {
   "cell_type": "code",
   "execution_count": null,
   "id": "72bf90b9",
   "metadata": {},
   "outputs": [],
   "source": []
  }
 ],
 "metadata": {
  "kernelspec": {
   "display_name": "base",
   "language": "python",
   "name": "python3"
  },
  "language_info": {
   "codemirror_mode": {
    "name": "ipython",
    "version": 3
   },
   "file_extension": ".py",
   "mimetype": "text/x-python",
   "name": "python",
   "nbconvert_exporter": "python",
   "pygments_lexer": "ipython3",
   "version": "3.11.9"
  }
 },
 "nbformat": 4,
 "nbformat_minor": 5
}
